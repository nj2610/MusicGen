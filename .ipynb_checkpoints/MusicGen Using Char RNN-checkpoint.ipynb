{
 "cells": [
  {
   "cell_type": "code",
   "execution_count": 14,
   "metadata": {
    "collapsed": true
   },
   "outputs": [],
   "source": [
    "import time\n",
    "from collections import namedtuple\n",
    "\n",
    "import numpy as np\n",
    "import tensorflow as tf"
   ]
  },
  {
   "cell_type": "markdown",
   "metadata": {},
   "source": [
    "First we'll load the text file and convert it into integers for our network to use. Here I'm creating a couple dictionaries to convert the characters to and from integers. Encoding the characters as integers makes it easier to use as input in the network."
   ]
  },
  {
   "cell_type": "code",
   "execution_count": 11,
   "metadata": {},
   "outputs": [
    {
     "name": "stdout",
     "output_type": "stream",
     "text": [
      "14\n",
      "['C:\\\\Users\\\\nikhi\\\\Desktop\\\\MusicGenRNN\\\\Dataset\\\\ashover.txt', 'C:\\\\Users\\\\nikhi\\\\Desktop\\\\MusicGenRNN\\\\Dataset\\\\hpps.txt', 'C:\\\\Users\\\\nikhi\\\\Desktop\\\\MusicGenRNN\\\\Dataset\\\\jigs.txt', 'C:\\\\Users\\\\nikhi\\\\Desktop\\\\MusicGenRNN\\\\Dataset\\\\morris.txt', 'C:\\\\Users\\\\nikhi\\\\Desktop\\\\MusicGenRNN\\\\Dataset\\\\playford.txt', 'C:\\\\Users\\\\nikhi\\\\Desktop\\\\MusicGenRNN\\\\Dataset\\\\reelsa-c.txt', 'C:\\\\Users\\\\nikhi\\\\Desktop\\\\MusicGenRNN\\\\Dataset\\\\reelsd-g.txt', 'C:\\\\Users\\\\nikhi\\\\Desktop\\\\MusicGenRNN\\\\Dataset\\\\reelsh-l.txt', 'C:\\\\Users\\\\nikhi\\\\Desktop\\\\MusicGenRNN\\\\Dataset\\\\reelsm-q.txt', 'C:\\\\Users\\\\nikhi\\\\Desktop\\\\MusicGenRNN\\\\Dataset\\\\reelsr-t.txt', 'C:\\\\Users\\\\nikhi\\\\Desktop\\\\MusicGenRNN\\\\Dataset\\\\reelsu-z.txt', 'C:\\\\Users\\\\nikhi\\\\Desktop\\\\MusicGenRNN\\\\Dataset\\\\slip.txt', 'C:\\\\Users\\\\nikhi\\\\Desktop\\\\MusicGenRNN\\\\Dataset\\\\waltzes.txt', 'C:\\\\Users\\\\nikhi\\\\Desktop\\\\MusicGenRNN\\\\Dataset\\\\xmas.txt']\n"
     ]
    }
   ],
   "source": [
    "import glob\n",
    "files = glob.glob(\"C:\\\\Users\\\\nikhi\\\\Desktop\\\\MusicGenRNN\\\\Dataset\\\\*\")\n",
    "print(len(files))\n",
    "print(files)"
   ]
  },
  {
   "cell_type": "code",
   "execution_count": 12,
   "metadata": {
    "collapsed": true
   },
   "outputs": [],
   "source": [
    "with open(\"input.txt\", \"wb\") as outfile:\n",
    "    for f in files:\n",
    "        with open(f, \"rb\") as infile:\n",
    "            outfile.write(infile.read())"
   ]
  },
  {
   "cell_type": "code",
   "execution_count": 15,
   "metadata": {
    "collapsed": true
   },
   "outputs": [],
   "source": [
    "with open('input.txt', 'r') as f:\n",
    "    text=f.read()\n",
    "vocab = sorted(set(text))\n",
    "vocab_to_int = {c: i for i, c in enumerate(vocab)}\n",
    "int_to_vocab = dict(enumerate(vocab))\n",
    "encoded = np.array([vocab_to_int[c] for c in text], dtype=np.int32)"
   ]
  },
  {
   "cell_type": "code",
   "execution_count": 16,
   "metadata": {},
   "outputs": [
    {
     "data": {
      "text/plain": [
       "'\\nX: 1\\nT:A and A\\'s Waltz\\n% Nottingham Music Database\\nS:Mick Peat\\nM:3/4\\nL:1/4\\nK:G\\ne|\"G\"d2B|\"D\"A3/2B/2c'"
      ]
     },
     "execution_count": 16,
     "metadata": {},
     "output_type": "execute_result"
    }
   ],
   "source": [
    "text[:100]"
   ]
  },
  {
   "cell_type": "markdown",
   "metadata": {},
   "source": [
    "And we can see the characters encoded as integers."
   ]
  },
  {
   "cell_type": "code",
   "execution_count": 17,
   "metadata": {},
   "outputs": [
    {
     "data": {
      "text/plain": [
       "array([ 0, 55, 26,  1, 17,  0, 51, 26, 32,  1, 63, 76, 66,  1, 32,  7, 81,\n",
       "        1, 54, 63, 74, 82, 88,  0,  5,  1, 45, 77, 82, 82, 71, 76, 69, 70,\n",
       "       63, 75,  1, 44, 83, 81, 71, 65,  1, 35, 63, 82, 63, 64, 63, 81, 67,\n",
       "        0, 50, 26, 44, 71, 65, 73,  1, 47, 67, 63, 82,  0, 44, 26, 19, 15,\n",
       "       20,  0, 43, 26, 17, 15, 20,  0, 42, 26, 38,  0, 67, 90,  3, 38,  3,\n",
       "       66, 18, 33, 90,  3, 35,  3, 32, 19, 15, 18, 33, 15, 18, 65])"
      ]
     },
     "execution_count": 17,
     "metadata": {},
     "output_type": "execute_result"
    }
   ],
   "source": [
    "encoded[:100]"
   ]
  },
  {
   "cell_type": "markdown",
   "metadata": {},
   "source": [
    "Since the network is working with individual characters, it's similar to a classification problem in which we are trying to predict the next character from the previous text.  Here's how many 'classes' our network has to pick from."
   ]
  },
  {
   "cell_type": "code",
   "execution_count": 18,
   "metadata": {},
   "outputs": [
    {
     "data": {
      "text/plain": [
       "93"
      ]
     },
     "execution_count": 18,
     "metadata": {},
     "output_type": "execute_result"
    }
   ],
   "source": [
    "len(vocab)"
   ]
  },
  {
   "cell_type": "markdown",
   "metadata": {},
   "source": [
    "## Making training mini-batches\n",
    "\n",
    "We start with our text encoded as integers in one long array in `encoded`. Let's create a function that will give us an iterator for our batches. I like using [generator functions](https://jeffknupp.com/blog/2013/04/07/improve-your-python-yield-and-generators-explained/) to do this. Then we can pass `encoded` into this function and get our batch generator.\n",
    "\n",
    "The first thing we need to do is discard some of the text so we only have completely full batches. Each batch contains $N \\times M$ characters, where $N$ is the batch size (the number of sequences) and $M$ is the number of steps. Then, to get the total number of batches, $K$, we can make from the array `arr`, you divide the length of `arr` by the number of characters per batch. Once you know the number of batches, you can get the total number of characters to keep from `arr`, $N * M * K$.\n",
    "\n",
    "After that, we need to split `arr` into $N$ sequences. You can do this using `arr.reshape(size)` where `size` is a tuple containing the dimensions sizes of the reshaped array. We know we want $N$ sequences (`batch_size` below), let's make that the size of the first dimension. For the second dimension, you can use `-1` as a placeholder in the size, it'll fill up the array with the appropriate data for you. After this, you should have an array that is $N \\times (M * K)$.\n",
    "\n",
    "Now that we have this array, we can iterate through it to get our batches. The idea is each batch is a $N \\times M$ window on the $N \\times (M * K)$ array. For each subsequent batch, the window moves over by `n_steps`. We also want to create both the input and target arrays. Remember that the targets are the inputs shifted over one character. \n",
    "\n",
    "The way I like to do this window is use `range` to take steps of size `n_steps` from $0$ to `arr.shape[1]`, the total number of steps in each sequence. That way, the integers you get from `range` always point to the start of a batch, and each window is `n_steps` wide."
   ]
  },
  {
   "cell_type": "code",
   "execution_count": 19,
   "metadata": {
    "collapsed": true
   },
   "outputs": [],
   "source": [
    "def get_batches(arr, batch_size, n_steps):\n",
    "    '''Create a generator that returns batches of size\n",
    "       batch_size x n_steps from arr.\n",
    "       \n",
    "       Arguments\n",
    "       ---------\n",
    "       arr: Array you want to make batches from\n",
    "       batch_size: Batch size, the number of sequences per batch\n",
    "       n_steps: Number of sequence steps per batch\n",
    "    '''\n",
    "    # Get the number of characters per batch and number of batches we can make\n",
    "    characters_per_batch = batch_size * n_steps\n",
    "    n_batches = len(arr) // characters_per_batch\n",
    "    \n",
    "    # Keep only enough characters to make full batches\n",
    "    arr = arr[:characters_per_batch * n_batches]\n",
    "    \n",
    "    # Reshape into batch_size rows\n",
    "    arr = arr.reshape((batch_size, -1))\n",
    "    \n",
    "    for n in range(0, arr.shape[1], n_steps):\n",
    "        # The features\n",
    "        x = arr[:, n:n+n_steps]\n",
    "        # The targets, shifted by one\n",
    "        y_temp = arr[:, n+1:n+n_steps+1]\n",
    "        \n",
    "        # For the very last batch, y will be one character short at the end of \n",
    "        # the sequences which breaks things. To get around this, I'll make an \n",
    "        # array of the appropriate size first, of all zeros, then add the targets.\n",
    "        # This will introduce a small artifact in the last batch, but it won't matter.\n",
    "        y = np.zeros(x.shape, dtype=x.dtype)\n",
    "        y[:,:y_temp.shape[1]] = y_temp\n",
    "        \n",
    "        yield x, y"
   ]
  },
  {
   "cell_type": "markdown",
   "metadata": {},
   "source": [
    "Now I'll make my data sets and we can check out what's going on here. Here I'm going to use a batch size of 10 and 50 sequence steps."
   ]
  },
  {
   "cell_type": "code",
   "execution_count": 20,
   "metadata": {
    "collapsed": true
   },
   "outputs": [],
   "source": [
    "batches = get_batches(encoded, 10, 50)\n",
    "x, y = next(batches)"
   ]
  },
  {
   "cell_type": "code",
   "execution_count": 21,
   "metadata": {},
   "outputs": [
    {
     "name": "stdout",
     "output_type": "stream",
     "text": [
      "x\n",
      " [[ 0 55 26  1 17  0 51 26 32  1]\n",
      " [69  1  3 32 23  3 32 33 65  1]\n",
      " [38  1  3 35 23  3 35 37 32 90]\n",
      " [ 3 32 18 32  1 32 38 37 90  0]\n",
      " [33 64  3 33 18  1  3 37 23  3]\n",
      " [15 18 65 15 18 66 15 18 33 15]\n",
      " [69 68  1 67 18 90  3 35  3 66]\n",
      " [63 64 71 76  0  5  1 45 77 82]\n",
      " [67 15 18 66 15 18 33 15 18 32]\n",
      " [ 3 66 32 90  3 35  3 66 68  1]]\n",
      "\n",
      "y\n",
      " [[55 26  1 17  0 51 26 32  1 63]\n",
      " [ 1  3 32 23  3 32 33 65  1 90]\n",
      " [ 1  3 35 23  3 35 37 32 90  3]\n",
      " [32 18 32  1 32 38 37 90  0  3]\n",
      " [64  3 33 18  1  3 37 23  3 37]\n",
      " [18 65 15 18 66 15 18 33 15 18]\n",
      " [68  1 67 18 90  3 35  3 66 20]\n",
      " [64 71 76  0  5  1 45 77 82 82]\n",
      " [15 18 66 15 18 33 15 18 32 15]\n",
      " [66 32 90  3 35  3 66 68  1 63]]\n"
     ]
    }
   ],
   "source": [
    "print('x\\n', x[:10, :10])\n",
    "print('\\ny\\n', y[:10, :10])"
   ]
  },
  {
   "cell_type": "markdown",
   "metadata": {},
   "source": [
    "## Building the model\n",
    "\n",
    "Below is where you'll build the network. We'll break it up into parts so it's easier to reason about each bit. Then we can connect them up into the whole network.\n",
    "\n",
    "<img src=\"assets/charRNN.png\" width=500px>\n",
    "\n",
    "\n",
    "### Inputs\n",
    "\n",
    "First off we'll create our input placeholders. As usual we need placeholders for the training data and the targets. We'll also create a placeholder for dropout layers called `keep_prob`. This will be a scalar, that is a 0-D tensor. To make a scalar, you create a placeholder without giving it a size."
   ]
  },
  {
   "cell_type": "code",
   "execution_count": 22,
   "metadata": {
    "collapsed": true
   },
   "outputs": [],
   "source": [
    "def build_inputs(batch_size, num_steps):\n",
    "    ''' Define placeholders for inputs, targets, and dropout \n",
    "    \n",
    "        Arguments\n",
    "        ---------\n",
    "        batch_size: Batch size, number of sequences per batch\n",
    "        num_steps: Number of sequence steps in a batch\n",
    "        \n",
    "    '''\n",
    "    # Declare placeholders we'll feed into the graph\n",
    "    inputs = tf.placeholder(tf.int32, [batch_size, num_steps], name = 'inputs')\n",
    "    targets = tf.placeholder(tf.int32, [batch_size, num_steps], name = 'targets')\n",
    "    \n",
    "    # Keep probability placeholder for drop out layers\n",
    "    keep_prob = tf.placeholder(tf.float32, name = 'keep_prob')\n",
    "    \n",
    "    return inputs, targets, keep_prob"
   ]
  },
  {
   "cell_type": "markdown",
   "metadata": {},
   "source": [
    "### LSTM Cell\n",
    "\n",
    "Here we will create the LSTM cell we'll use in the hidden layer. We'll use this cell as a building block for the RNN. So we aren't actually defining the RNN here, just the type of cell we'll use in the hidden layer.\n",
    "\n",
    "We first create a basic LSTM cell with\n",
    "\n",
    "```python\n",
    "lstm = tf.contrib.rnn.BasicLSTMCell(num_units)\n",
    "```\n",
    "\n",
    "where `num_units` is the number of units in the hidden layers in the cell. Then we can add dropout by wrapping it with \n",
    "\n",
    "```python\n",
    "tf.contrib.rnn.DropoutWrapper(lstm, output_keep_prob=keep_prob)\n",
    "```\n",
    "You pass in a cell and it will automatically add dropout to the inputs or outputs. Finally, we can stack up the LSTM cells into layers with [`tf.contrib.rnn.MultiRNNCell`](https://www.tensorflow.org/versions/r1.0/api_docs/python/tf/contrib/rnn/MultiRNNCell). With this, you pass in a list of cells and it will send the output of one cell into the next cell. Previously with TensorFlow 1.0, you could do this\n",
    "\n",
    "```python\n",
    "tf.contrib.rnn.MultiRNNCell([cell]*num_layers)\n",
    "```\n",
    "\n",
    "This might look a little weird if you know Python well because this will create a list of the same `cell` object. However, TensorFlow 1.0 will create different weight matrices for all `cell` objects. But, starting with TensorFlow 1.1 you actually need to create new cell objects in the list. To get it to work in TensorFlow 1.1, it should look like\n",
    "\n",
    "```python\n",
    "def build_cell(num_units, keep_prob):\n",
    "    lstm = tf.contrib.rnn.BasicLSTMCell(num_units)\n",
    "    drop = tf.contrib.rnn.DropoutWrapper(lstm, output_keep_prob=keep_prob)\n",
    "    \n",
    "    return drop\n",
    "    \n",
    "tf.contrib.rnn.MultiRNNCell([build_cell(num_units, keep_prob) for _ in range(num_layers)])\n",
    "```\n",
    "\n",
    "Even though this is actually multiple LSTM cells stacked on each other, you can treat the multiple layers as one cell.\n",
    "\n",
    "We also need to create an initial cell state of all zeros. This can be done like so\n",
    "\n",
    "```python\n",
    "initial_state = cell.zero_state(batch_size, tf.float32)\n",
    "```\n",
    "\n",
    "Below, we implement the `build_lstm` function to create these LSTM cells and the initial state."
   ]
  },
  {
   "cell_type": "code",
   "execution_count": 23,
   "metadata": {
    "collapsed": true
   },
   "outputs": [],
   "source": [
    "def build_lstm(lstm_size, num_layers, batch_size, keep_prob):\n",
    "    ''' Build LSTM cell.\n",
    "    \n",
    "        Arguments\n",
    "        ---------\n",
    "        keep_prob: Scalar tensor (tf.placeholder) for the dropout keep probability\n",
    "        lstm_size: Size of the hidden layers in the LSTM cells\n",
    "        num_layers: Number of LSTM layers\n",
    "        batch_size: Batch size\n",
    "\n",
    "    '''\n",
    "    ### Build the LSTM Cell\n",
    "    def build_cell(lstm_size, keep_prob):\n",
    "        # Use a basic LSTM cell\n",
    "        lstm = tf.contrib.rnn.BasicLSTMCell(lstm_size)\n",
    "        \n",
    "        # Add dropout to the cell\n",
    "        drop = tf.contrib.rnn.DropoutWrapper(lstm, output_keep_prob=keep_prob)\n",
    "        return drop\n",
    "    \n",
    "    # Stack up multiple LSTM layers, for deep learning\n",
    "    cell = tf.contrib.rnn.MultiRNNCell([build_cell(lstm_size, keep_prob) for _ in range(num_layers)])\n",
    "    initial_state = cell.zero_state(batch_size, tf.float32) \n",
    "    \n",
    "    return cell, initial_state"
   ]
  },
  {
   "cell_type": "markdown",
   "metadata": {},
   "source": [
    "### RNN Output\n",
    "\n",
    "Here we'll create the output layer. We need to connect the output of the RNN cells to a full connected layer with a softmax output. The softmax output gives us a probability distribution we can use to predict the next character, so we want this layer to have size $C$, the number of classes/characters we have in our text.\n",
    "\n",
    "If our input has batch size $N$, number of steps $M$, and the hidden layer has $L$ hidden units, then the output is a 3D tensor with size $N \\times M \\times L$. The output of each LSTM cell has size $L$, we have $M$ of them, one for each sequence step, and we have $N$ sequences. So the total size is $N \\times M \\times L$. \n",
    "\n",
    "We are using the same fully connected layer, the same weights, for each of the outputs. Then, to make things easier, we should reshape the outputs into a 2D tensor with shape $(M * N) \\times L$. That is, one row for each sequence and step, where the values of each row are the output from the LSTM cells. We get the LSTM output as a list, `lstm_output`. First we need to concatenate this whole list into one array with [`tf.concat`](https://www.tensorflow.org/api_docs/python/tf/concat). Then, reshape it (with `tf.reshape`) to size $(M * N) \\times L$.\n",
    "\n",
    "One we have the outputs reshaped, we can do the matrix multiplication with the weights. We need to wrap the weight and bias variables in a variable scope with `tf.variable_scope(scope_name)` because there are weights being created in the LSTM cells. TensorFlow will throw an error if the weights created here have the same names as the weights created in the LSTM cells, which they will be default. To avoid this, we wrap the variables in a variable scope so we can give them unique names."
   ]
  },
  {
   "cell_type": "code",
   "execution_count": 24,
   "metadata": {
    "collapsed": true
   },
   "outputs": [],
   "source": [
    "def build_output(lstm_output, in_size, out_size):\n",
    "    ''' Build a softmax layer, return the softmax output and logits.\n",
    "    \n",
    "        Arguments\n",
    "        ---------\n",
    "        \n",
    "        lstm_output: List of output tensors from the LSTM layer\n",
    "        in_size: Size of the input tensor, for example, size of the LSTM cells\n",
    "        out_size: Size of this softmax layer\n",
    "    \n",
    "    '''\n",
    "\n",
    "    # Reshape output so it's a bunch of rows, one row for each step for each sequence.\n",
    "    # Concatenate lstm_output over axis 1 (the columns)\n",
    "    seq_output = tf.concat(lstm_output, axis = 1)\n",
    "    # Reshape seq_output to a 2D tensor with lstm_size columns\n",
    "    x = tf.reshape(seq_output, [-1, in_size])\n",
    "    \n",
    "    # Connect the RNN outputs to a softmax layer\n",
    "    with tf.variable_scope('softmax'):\n",
    "        # Create the weight and bias variables here\n",
    "        softmax_w = tf.Variable(tf.truncated_normal((in_size, out_size), stddev=0.1))\n",
    "        softmax_b = tf.Variable(tf.zeros(out_size)) \n",
    "    \n",
    "    # Since output is a bunch of rows of RNN cell outputs, logits will be a bunch\n",
    "    # of rows of logit outputs, one for each step and sequence\n",
    "    logits = tf.matmul(x, softmax_w) + softmax_b\n",
    "    \n",
    "    # Use softmax to get the probabilities for predicted characters\n",
    "    out = tf.nn.softmax(logits, name='predictions')\n",
    "    \n",
    "    return out, logits"
   ]
  },
  {
   "cell_type": "markdown",
   "metadata": {},
   "source": [
    "### Training loss\n",
    "\n",
    "Next up is the training loss. We get the logits and targets and calculate the softmax cross-entropy loss. First we need to one-hot encode the targets, we're getting them as encoded characters. Then, reshape the one-hot targets so it's a 2D tensor with size $(M*N) \\times C$ where $C$ is the number of classes/characters we have. Remember that we reshaped the LSTM outputs and ran them through a fully connected layer with $C$ units. So our logits will also have size $(M*N) \\times C$.\n",
    "\n",
    "Then we run the logits and targets through `tf.nn.softmax_cross_entropy_with_logits` and find the mean to get the loss."
   ]
  },
  {
   "cell_type": "code",
   "execution_count": 25,
   "metadata": {
    "collapsed": true
   },
   "outputs": [],
   "source": [
    "def build_loss(logits, targets, lstm_size, num_classes):\n",
    "    ''' Calculate the loss from the logits and the targets.\n",
    "    \n",
    "        Arguments\n",
    "        ---------\n",
    "        logits: Logits from final fully connected layer\n",
    "        targets: Targets for supervised learning\n",
    "        lstm_size: Number of LSTM hidden units\n",
    "        num_classes: Number of classes in targets\n",
    "        \n",
    "    '''\n",
    "    \n",
    "    # One-hot encode targets and reshape to match logits, one row per sequence per step\n",
    "    y_one_hot = tf.one_hot(targets, num_classes)\n",
    "    y_reshaped = tf.reshape(y_one_hot, [-1, num_classes]) \n",
    "    \n",
    "    # Softmax cross entropy loss\n",
    "    loss = tf.nn.softmax_cross_entropy_with_logits(logits=logits, labels=y_reshaped)\n",
    "    loss = tf.reduce_mean(loss)\n",
    "    \n",
    "    return loss"
   ]
  },
  {
   "cell_type": "markdown",
   "metadata": {},
   "source": [
    "### Optimizer\n",
    "\n",
    "Here we build the optimizer. Normal RNNs have have issues gradients exploding and disappearing. LSTMs fix the disappearance problem, but the gradients can still grow without bound. To fix this, we can clip the gradients above some threshold. That is, if a gradient is larger than that threshold, we set it to the threshold. This will ensure the gradients never grow overly large. Then we use an AdamOptimizer for the learning step."
   ]
  },
  {
   "cell_type": "code",
   "execution_count": 26,
   "metadata": {
    "collapsed": true
   },
   "outputs": [],
   "source": [
    "def build_optimizer(loss, learning_rate, grad_clip):\n",
    "    ''' Build optmizer for training, using gradient clipping.\n",
    "    \n",
    "        Arguments:\n",
    "        loss: Network loss\n",
    "        learning_rate: Learning rate for optimizer\n",
    "    \n",
    "    '''\n",
    "    \n",
    "    # Optimizer for training, using gradient clipping to control exploding gradients\n",
    "    tvars = tf.trainable_variables()\n",
    "    grads, _ = tf.clip_by_global_norm(tf.gradients(loss, tvars), grad_clip)\n",
    "    train_op = tf.train.AdamOptimizer(learning_rate)\n",
    "    optimizer = train_op.apply_gradients(zip(grads, tvars))\n",
    "    \n",
    "    return optimizer"
   ]
  },
  {
   "cell_type": "markdown",
   "metadata": {},
   "source": [
    "### Build the network\n",
    "\n",
    "Now we can put all the pieces together and build a class for the network. To actually run data through the LSTM cells, we will use [`tf.nn.dynamic_rnn`](https://www.tensorflow.org/versions/r1.0/api_docs/python/tf/nn/dynamic_rnn). This function will pass the hidden and cell states across LSTM cells appropriately for us. It returns the outputs for each LSTM cell at each step for each sequence in the mini-batch. It also gives us the final LSTM state. We want to save this state as `final_state` so we can pass it to the first LSTM cell in the the next mini-batch run. For `tf.nn.dynamic_rnn`, we pass in the cell and initial state we get from `build_lstm`, as well as our input sequences. Also, we need to one-hot encode the inputs before going into the RNN. "
   ]
  },
  {
   "cell_type": "code",
   "execution_count": 27,
   "metadata": {
    "collapsed": true
   },
   "outputs": [],
   "source": [
    "class CharRNN:\n",
    "    \n",
    "    def __init__(self, num_classes, batch_size=64, num_steps=50, \n",
    "                       lstm_size=128, num_layers=2, learning_rate=0.001, \n",
    "                       grad_clip=5, sampling=False):\n",
    "    \n",
    "        # When we're using this network for sampling later, we'll be passing in\n",
    "        # one character at a time, so providing an option for that\n",
    "        if sampling == True:\n",
    "            batch_size, num_steps = 1, 1\n",
    "        else:\n",
    "            batch_size, num_steps = batch_size, num_steps\n",
    "\n",
    "        tf.reset_default_graph()\n",
    "        \n",
    "        # Build the input placeholder tensors\n",
    "        self.inputs, self.targets, self.keep_prob = build_inputs(batch_size, num_steps)\n",
    "\n",
    "        # Build the LSTM cell\n",
    "        cell, self.initial_state = build_lstm(lstm_size, num_layers, batch_size, self.keep_prob)\n",
    "\n",
    "        ### Run the data through the RNN layers\n",
    "        # First, one-hot encode the input tokens\n",
    "        x_one_hot = tf.one_hot(self.inputs, num_classes)\n",
    "        \n",
    "        # Run each sequence step through the RNN with tf.nn.dynamic_rnn \n",
    "        outputs, state = tf.nn.dynamic_rnn(cell, x_one_hot, initial_state=self.initial_state)\n",
    "        self.final_state = state\n",
    "        \n",
    "        # Get softmax predictions and logits\n",
    "        self.prediction, self.logits = build_output(outputs, lstm_size, num_classes)\n",
    "        \n",
    "        # Loss and optimizer (with gradient clipping)\n",
    "        self.loss = build_loss(self.logits, self.targets, lstm_size, num_classes)\n",
    "        self.optimizer = build_optimizer(self.loss, learning_rate, grad_clip)"
   ]
  },
  {
   "cell_type": "markdown",
   "metadata": {},
   "source": [
    "## Hyperparameters\n",
    "\n",
    "Here are the hyperparameters for the network.\n",
    "\n",
    "* `batch_size` - Number of sequences running through the network in one pass.\n",
    "* `num_steps` - Number of characters in the sequence the network is trained on. Larger is better typically, the network will learn more long range dependencies. But it takes longer to train. 100 is typically a good number here.\n",
    "* `lstm_size` - The number of units in the hidden layers.\n",
    "* `num_layers` - Number of hidden LSTM layers to use\n",
    "* `learning_rate` - Learning rate for training\n",
    "* `keep_prob` - The dropout keep probability when training. If you're network is overfitting, try decreasing this.\n",
    "\n",
    "Here's some good advice from Andrej Karpathy on training the network. I'm going to copy it in here for your benefit, but also link to [where it originally came from](https://github.com/karpathy/char-rnn#tips-and-tricks).\n",
    "\n",
    "> ## Tips and Tricks\n",
    "\n",
    ">### Monitoring Validation Loss vs. Training Loss\n",
    ">If you're somewhat new to Machine Learning or Neural Networks it can take a bit of expertise to get good models. The most important quantity to keep track of is the difference between your training loss (printed during training) and the validation loss (printed once in a while when the RNN is run on the validation data (by default every 1000 iterations)). In particular:\n",
    "\n",
    "> - If your training loss is much lower than validation loss then this means the network might be **overfitting**. Solutions to this are to decrease your network size, or to increase dropout. For example you could try dropout of 0.5 and so on.\n",
    "> - If your training/validation loss are about equal then your model is **underfitting**. Increase the size of your model (either number of layers or the raw number of neurons per layer)\n",
    "\n",
    "> ### Approximate number of parameters\n",
    "\n",
    "> The two most important parameters that control the model are `lstm_size` and `num_layers`. I would advise that you always use `num_layers` of either 2/3. The `lstm_size` can be adjusted based on how much data you have. The two important quantities to keep track of here are:\n",
    "\n",
    "> - The number of parameters in your model. This is printed when you start training.\n",
    "> - The size of your dataset. 1MB file is approximately 1 million characters.\n",
    "\n",
    ">These two should be about the same order of magnitude. It's a little tricky to tell. Here are some examples:\n",
    "\n",
    "> - I have a 100MB dataset and I'm using the default parameter settings (which currently print 150K parameters). My data size is significantly larger (100 mil >> 0.15 mil), so I expect to heavily underfit. I am thinking I can comfortably afford to make `lstm_size` larger.\n",
    "> - I have a 10MB dataset and running a 10 million parameter model. I'm slightly nervous and I'm carefully monitoring my validation loss. If it's larger than my training loss then I may want to try to increase dropout a bit and see if that helps the validation loss.\n",
    "\n",
    "> ### Best models strategy\n",
    "\n",
    ">The winning strategy to obtaining very good models (if you have the compute time) is to always err on making the network larger (as large as you're willing to wait for it to compute) and then try different dropout values (between 0,1). Whatever model has the best validation performance (the loss, written in the checkpoint filename, low is good) is the one you should use in the end.\n",
    "\n",
    ">It is very common in deep learning to run many different models with many different hyperparameter settings, and in the end take whatever checkpoint gave the best validation performance.\n",
    "\n",
    ">By the way, the size of your training and validation splits are also parameters. Make sure you have a decent amount of data in your validation set or otherwise the validation performance will be noisy and not very informative."
   ]
  },
  {
   "cell_type": "code",
   "execution_count": 28,
   "metadata": {
    "collapsed": true
   },
   "outputs": [],
   "source": [
    "batch_size = 10         # Sequences per batch\n",
    "num_steps = 50          # Number of sequence steps per batch\n",
    "lstm_size = 128         # Size of hidden layers in LSTMs\n",
    "num_layers = 2          # Number of LSTM layers\n",
    "learning_rate = 0.01    # Learning rate\n",
    "keep_prob = 0.5         # Dropout keep probability"
   ]
  },
  {
   "cell_type": "markdown",
   "metadata": {},
   "source": [
    "## Time for training\n",
    "\n",
    "This is typical training code, passing inputs and targets into the network, then running the optimizer. Here we also get back the final LSTM state for the mini-batch. Then, we pass that state back into the network so the next batch can continue the state from the previous batch. And every so often (set by `save_every_n`) I save a checkpoint.\n",
    "\n",
    "Here I'm saving checkpoints with the format\n",
    "\n",
    "`i{iteration number}_l{# hidden layer units}.ckpt`"
   ]
  },
  {
   "cell_type": "code",
   "execution_count": 29,
   "metadata": {
    "scrolled": true
   },
   "outputs": [
    {
     "name": "stdout",
     "output_type": "stream",
     "text": [
      "WARNING:tensorflow:From <ipython-input-25-5532ab0272a4>:18: softmax_cross_entropy_with_logits (from tensorflow.python.ops.nn_ops) is deprecated and will be removed in a future version.\n",
      "Instructions for updating:\n",
      "\n",
      "Future major versions of TensorFlow will allow gradients to flow\n",
      "into the labels input on backprop by default.\n",
      "\n",
      "See @{tf.nn.softmax_cross_entropy_with_logits_v2}.\n",
      "\n",
      "Epoch: 1/20...  Training Step: 50...  Training loss: 3.5041...  0.0678 sec/batch\n",
      "Epoch: 1/20...  Training Step: 100...  Training loss: 2.3237...  0.0698 sec/batch\n",
      "Epoch: 1/20...  Training Step: 150...  Training loss: 2.1808...  0.0668 sec/batch\n",
      "Epoch: 1/20...  Training Step: 200...  Training loss: 1.9922...  0.0768 sec/batch\n",
      "Epoch: 1/20...  Training Step: 250...  Training loss: 1.7090...  0.0838 sec/batch\n",
      "Epoch: 1/20...  Training Step: 300...  Training loss: 1.6486...  0.0957 sec/batch\n",
      "Epoch: 1/20...  Training Step: 350...  Training loss: 1.5760...  0.0698 sec/batch\n",
      "Epoch: 1/20...  Training Step: 400...  Training loss: 1.6888...  0.0778 sec/batch\n",
      "Epoch: 1/20...  Training Step: 450...  Training loss: 1.6364...  0.0748 sec/batch\n",
      "Epoch: 1/20...  Training Step: 500...  Training loss: 1.7276...  0.0758 sec/batch\n",
      "Epoch: 1/20...  Training Step: 550...  Training loss: 1.8952...  0.0698 sec/batch\n",
      "Epoch: 1/20...  Training Step: 600...  Training loss: 1.6288...  0.0728 sec/batch\n",
      "Epoch: 1/20...  Training Step: 650...  Training loss: 1.4586...  0.0688 sec/batch\n",
      "Epoch: 1/20...  Training Step: 700...  Training loss: 1.7938...  0.0698 sec/batch\n",
      "Epoch: 1/20...  Training Step: 750...  Training loss: 1.4941...  0.0768 sec/batch\n",
      "Epoch: 1/20...  Training Step: 800...  Training loss: 1.4248...  0.0708 sec/batch\n",
      "Epoch: 1/20...  Training Step: 850...  Training loss: 1.6288...  0.0708 sec/batch\n",
      "Epoch: 1/20...  Training Step: 900...  Training loss: 1.3615...  0.0738 sec/batch\n",
      "Epoch: 2/20...  Training Step: 950...  Training loss: 1.4715...  0.0738 sec/batch\n",
      "Epoch: 2/20...  Training Step: 1000...  Training loss: 1.3639...  0.0748 sec/batch\n",
      "Epoch: 2/20...  Training Step: 1050...  Training loss: 1.3381...  0.0698 sec/batch\n",
      "Epoch: 2/20...  Training Step: 1100...  Training loss: 1.3500...  0.0698 sec/batch\n",
      "Epoch: 2/20...  Training Step: 1150...  Training loss: 1.1836...  0.0698 sec/batch\n",
      "Epoch: 2/20...  Training Step: 1200...  Training loss: 1.3858...  0.0748 sec/batch\n",
      "Epoch: 2/20...  Training Step: 1250...  Training loss: 1.3498...  0.0728 sec/batch\n",
      "Epoch: 2/20...  Training Step: 1300...  Training loss: 1.2472...  0.0718 sec/batch\n",
      "Epoch: 2/20...  Training Step: 1350...  Training loss: 1.3398...  0.0708 sec/batch\n",
      "Epoch: 2/20...  Training Step: 1400...  Training loss: 1.2847...  0.0718 sec/batch\n",
      "Epoch: 2/20...  Training Step: 1450...  Training loss: 1.3859...  0.0798 sec/batch\n",
      "Epoch: 2/20...  Training Step: 1500...  Training loss: 1.4917...  0.0698 sec/batch\n",
      "Epoch: 2/20...  Training Step: 1550...  Training loss: 1.2732...  0.0738 sec/batch\n",
      "Epoch: 2/20...  Training Step: 1600...  Training loss: 1.3075...  0.0728 sec/batch\n",
      "Epoch: 2/20...  Training Step: 1650...  Training loss: 1.4747...  0.0768 sec/batch\n",
      "Epoch: 2/20...  Training Step: 1700...  Training loss: 1.3463...  0.0808 sec/batch\n",
      "Epoch: 2/20...  Training Step: 1750...  Training loss: 1.3370...  0.0718 sec/batch\n",
      "Epoch: 2/20...  Training Step: 1800...  Training loss: 1.3664...  0.0728 sec/batch\n",
      "Epoch: 3/20...  Training Step: 1850...  Training loss: 1.5293...  0.0748 sec/batch\n",
      "Epoch: 3/20...  Training Step: 1900...  Training loss: 1.2950...  0.0728 sec/batch\n",
      "Epoch: 3/20...  Training Step: 1950...  Training loss: 1.3840...  0.0708 sec/batch\n",
      "Epoch: 3/20...  Training Step: 2000...  Training loss: 1.3140...  0.0668 sec/batch\n",
      "Epoch: 3/20...  Training Step: 2050...  Training loss: 1.0238...  0.0708 sec/batch\n",
      "Epoch: 3/20...  Training Step: 2100...  Training loss: 1.0461...  0.0858 sec/batch\n",
      "Epoch: 3/20...  Training Step: 2150...  Training loss: 1.2768...  0.0788 sec/batch\n",
      "Epoch: 3/20...  Training Step: 2200...  Training loss: 1.2596...  0.0868 sec/batch\n",
      "Epoch: 3/20...  Training Step: 2250...  Training loss: 1.2860...  0.0758 sec/batch\n",
      "Epoch: 3/20...  Training Step: 2300...  Training loss: 1.3051...  0.0708 sec/batch\n",
      "Epoch: 3/20...  Training Step: 2350...  Training loss: 1.2525...  0.0738 sec/batch\n",
      "Epoch: 3/20...  Training Step: 2400...  Training loss: 1.1967...  0.0738 sec/batch\n",
      "Epoch: 3/20...  Training Step: 2450...  Training loss: 1.1906...  0.0718 sec/batch\n",
      "Epoch: 3/20...  Training Step: 2500...  Training loss: 1.1478...  0.0678 sec/batch\n",
      "Epoch: 3/20...  Training Step: 2550...  Training loss: 1.2299...  0.0768 sec/batch\n",
      "Epoch: 3/20...  Training Step: 2600...  Training loss: 1.2603...  0.0917 sec/batch\n",
      "Epoch: 3/20...  Training Step: 2650...  Training loss: 1.2460...  0.1177 sec/batch\n",
      "Epoch: 3/20...  Training Step: 2700...  Training loss: 1.1652...  0.0888 sec/batch\n",
      "Epoch: 4/20...  Training Step: 2750...  Training loss: 1.4359...  0.0818 sec/batch\n",
      "Epoch: 4/20...  Training Step: 2800...  Training loss: 1.2908...  0.0718 sec/batch\n",
      "Epoch: 4/20...  Training Step: 2850...  Training loss: 1.6523...  0.0808 sec/batch\n",
      "Epoch: 4/20...  Training Step: 2900...  Training loss: 1.0245...  0.0738 sec/batch\n",
      "Epoch: 4/20...  Training Step: 2950...  Training loss: 1.1500...  0.0688 sec/batch\n",
      "Epoch: 4/20...  Training Step: 3000...  Training loss: 1.2395...  0.1366 sec/batch\n",
      "Epoch: 4/20...  Training Step: 3050...  Training loss: 1.3222...  0.0838 sec/batch\n",
      "Epoch: 4/20...  Training Step: 3100...  Training loss: 1.1543...  0.0788 sec/batch\n",
      "Epoch: 4/20...  Training Step: 3150...  Training loss: 1.1508...  0.1087 sec/batch\n",
      "Epoch: 4/20...  Training Step: 3200...  Training loss: 1.3182...  0.0708 sec/batch\n",
      "Epoch: 4/20...  Training Step: 3250...  Training loss: 1.4062...  0.0858 sec/batch\n",
      "Epoch: 4/20...  Training Step: 3300...  Training loss: 1.3753...  0.0927 sec/batch\n",
      "Epoch: 4/20...  Training Step: 3350...  Training loss: 1.2072...  0.0918 sec/batch\n",
      "Epoch: 4/20...  Training Step: 3400...  Training loss: 1.2742...  0.1027 sec/batch\n",
      "Epoch: 4/20...  Training Step: 3450...  Training loss: 1.2023...  0.0768 sec/batch\n",
      "Epoch: 4/20...  Training Step: 3500...  Training loss: 1.1397...  0.0938 sec/batch\n",
      "Epoch: 4/20...  Training Step: 3550...  Training loss: 1.3204...  0.0718 sec/batch\n",
      "Epoch: 4/20...  Training Step: 3600...  Training loss: 1.1650...  0.0748 sec/batch\n",
      "Epoch: 5/20...  Training Step: 3650...  Training loss: 1.0275...  0.0728 sec/batch\n",
      "Epoch: 5/20...  Training Step: 3700...  Training loss: 1.3534...  0.0758 sec/batch\n",
      "Epoch: 5/20...  Training Step: 3750...  Training loss: 1.5827...  0.0818 sec/batch\n",
      "Epoch: 5/20...  Training Step: 3800...  Training loss: 0.8946...  0.0758 sec/batch\n",
      "Epoch: 5/20...  Training Step: 3850...  Training loss: 0.9043...  0.0748 sec/batch\n",
      "Epoch: 5/20...  Training Step: 3900...  Training loss: 1.1297...  0.0838 sec/batch\n",
      "Epoch: 5/20...  Training Step: 3950...  Training loss: 1.3561...  0.0748 sec/batch\n",
      "Epoch: 5/20...  Training Step: 4000...  Training loss: 1.1695...  0.0698 sec/batch\n",
      "Epoch: 5/20...  Training Step: 4050...  Training loss: 1.1447...  0.0768 sec/batch\n",
      "Epoch: 5/20...  Training Step: 4100...  Training loss: 1.3703...  0.0718 sec/batch\n",
      "Epoch: 5/20...  Training Step: 4150...  Training loss: 1.0062...  0.0708 sec/batch\n",
      "Epoch: 5/20...  Training Step: 4200...  Training loss: 1.3451...  0.0698 sec/batch\n",
      "Epoch: 5/20...  Training Step: 4250...  Training loss: 1.1413...  0.0698 sec/batch\n",
      "Epoch: 5/20...  Training Step: 4300...  Training loss: 1.0915...  0.0858 sec/batch\n",
      "Epoch: 5/20...  Training Step: 4350...  Training loss: 1.0708...  0.0678 sec/batch\n",
      "Epoch: 5/20...  Training Step: 4400...  Training loss: 1.1907...  0.0758 sec/batch\n",
      "Epoch: 5/20...  Training Step: 4450...  Training loss: 0.9932...  0.0698 sec/batch\n",
      "Epoch: 5/20...  Training Step: 4500...  Training loss: 1.2147...  0.0788 sec/batch\n",
      "Epoch: 6/20...  Training Step: 4550...  Training loss: 1.2603...  0.0738 sec/batch\n",
      "Epoch: 6/20...  Training Step: 4600...  Training loss: 1.3382...  0.0758 sec/batch\n",
      "Epoch: 6/20...  Training Step: 4650...  Training loss: 1.2652...  0.0678 sec/batch\n",
      "Epoch: 6/20...  Training Step: 4700...  Training loss: 0.9962...  0.0718 sec/batch\n",
      "Epoch: 6/20...  Training Step: 4750...  Training loss: 1.1357...  0.0728 sec/batch\n"
     ]
    },
    {
     "name": "stdout",
     "output_type": "stream",
     "text": [
      "Epoch: 6/20...  Training Step: 4800...  Training loss: 1.1684...  0.0768 sec/batch\n",
      "Epoch: 6/20...  Training Step: 4850...  Training loss: 1.0432...  0.0698 sec/batch\n",
      "Epoch: 6/20...  Training Step: 4900...  Training loss: 1.0658...  0.0738 sec/batch\n",
      "Epoch: 6/20...  Training Step: 4950...  Training loss: 1.1072...  0.0778 sec/batch\n",
      "Epoch: 6/20...  Training Step: 5000...  Training loss: 1.1982...  0.0758 sec/batch\n",
      "Epoch: 6/20...  Training Step: 5050...  Training loss: 1.3352...  0.0788 sec/batch\n",
      "Epoch: 6/20...  Training Step: 5100...  Training loss: 1.0221...  0.0748 sec/batch\n",
      "Epoch: 6/20...  Training Step: 5150...  Training loss: 1.2344...  0.0698 sec/batch\n",
      "Epoch: 6/20...  Training Step: 5200...  Training loss: 1.2674...  0.0728 sec/batch\n",
      "Epoch: 6/20...  Training Step: 5250...  Training loss: 0.9375...  0.0748 sec/batch\n",
      "Epoch: 6/20...  Training Step: 5300...  Training loss: 1.1178...  0.0708 sec/batch\n",
      "Epoch: 6/20...  Training Step: 5350...  Training loss: 1.1883...  0.0748 sec/batch\n",
      "Epoch: 6/20...  Training Step: 5400...  Training loss: 1.2315...  0.0738 sec/batch\n",
      "Epoch: 7/20...  Training Step: 5450...  Training loss: 1.2708...  0.0718 sec/batch\n",
      "Epoch: 7/20...  Training Step: 5500...  Training loss: 1.3428...  0.0728 sec/batch\n",
      "Epoch: 7/20...  Training Step: 5550...  Training loss: 1.2560...  0.0718 sec/batch\n",
      "Epoch: 7/20...  Training Step: 5600...  Training loss: 0.8679...  0.0708 sec/batch\n",
      "Epoch: 7/20...  Training Step: 5650...  Training loss: 1.1109...  0.0738 sec/batch\n",
      "Epoch: 7/20...  Training Step: 5700...  Training loss: 0.9872...  0.0698 sec/batch\n",
      "Epoch: 7/20...  Training Step: 5750...  Training loss: 1.0974...  0.0728 sec/batch\n",
      "Epoch: 7/20...  Training Step: 5800...  Training loss: 1.1772...  0.0688 sec/batch\n",
      "Epoch: 7/20...  Training Step: 5850...  Training loss: 1.1707...  0.1057 sec/batch\n",
      "Epoch: 7/20...  Training Step: 5900...  Training loss: 1.1364...  0.0718 sec/batch\n",
      "Epoch: 7/20...  Training Step: 5950...  Training loss: 1.1138...  0.0798 sec/batch\n",
      "Epoch: 7/20...  Training Step: 6000...  Training loss: 1.3134...  0.0668 sec/batch\n",
      "Epoch: 7/20...  Training Step: 6050...  Training loss: 1.2333...  0.0758 sec/batch\n",
      "Epoch: 7/20...  Training Step: 6100...  Training loss: 1.1912...  0.0708 sec/batch\n",
      "Epoch: 7/20...  Training Step: 6150...  Training loss: 1.3547...  0.0778 sec/batch\n",
      "Epoch: 7/20...  Training Step: 6200...  Training loss: 1.2103...  0.0708 sec/batch\n",
      "Epoch: 7/20...  Training Step: 6250...  Training loss: 1.1712...  0.0758 sec/batch\n",
      "Epoch: 7/20...  Training Step: 6300...  Training loss: 1.2023...  0.0738 sec/batch\n",
      "Epoch: 8/20...  Training Step: 6350...  Training loss: 1.1554...  0.0778 sec/batch\n",
      "Epoch: 8/20...  Training Step: 6400...  Training loss: 1.1331...  0.0718 sec/batch\n",
      "Epoch: 8/20...  Training Step: 6450...  Training loss: 1.0094...  0.0738 sec/batch\n",
      "Epoch: 8/20...  Training Step: 6500...  Training loss: 1.1354...  0.0758 sec/batch\n",
      "Epoch: 8/20...  Training Step: 6550...  Training loss: 0.9762...  0.0748 sec/batch\n",
      "Epoch: 8/20...  Training Step: 6600...  Training loss: 1.0458...  0.0758 sec/batch\n",
      "Epoch: 8/20...  Training Step: 6650...  Training loss: 0.9559...  0.0688 sec/batch\n",
      "Epoch: 8/20...  Training Step: 6700...  Training loss: 1.0738...  0.0698 sec/batch\n",
      "Epoch: 8/20...  Training Step: 6750...  Training loss: 1.1451...  0.0728 sec/batch\n",
      "Epoch: 8/20...  Training Step: 6800...  Training loss: 1.1687...  0.0758 sec/batch\n",
      "Epoch: 8/20...  Training Step: 6850...  Training loss: 1.3567...  0.0888 sec/batch\n",
      "Epoch: 8/20...  Training Step: 6900...  Training loss: 0.8530...  0.0748 sec/batch\n",
      "Epoch: 8/20...  Training Step: 6950...  Training loss: 1.2487...  0.0728 sec/batch\n",
      "Epoch: 8/20...  Training Step: 7000...  Training loss: 1.0304...  0.0758 sec/batch\n",
      "Epoch: 8/20...  Training Step: 7050...  Training loss: 0.9450...  0.0977 sec/batch\n",
      "Epoch: 8/20...  Training Step: 7100...  Training loss: 1.1706...  0.0698 sec/batch\n",
      "Epoch: 8/20...  Training Step: 7150...  Training loss: 1.3427...  0.0738 sec/batch\n",
      "Epoch: 8/20...  Training Step: 7200...  Training loss: 1.0227...  0.0708 sec/batch\n",
      "Epoch: 9/20...  Training Step: 7250...  Training loss: 1.2365...  0.0678 sec/batch\n",
      "Epoch: 9/20...  Training Step: 7300...  Training loss: 1.2671...  0.0708 sec/batch\n",
      "Epoch: 9/20...  Training Step: 7350...  Training loss: 1.0402...  0.0698 sec/batch\n",
      "Epoch: 9/20...  Training Step: 7400...  Training loss: 1.1090...  0.0698 sec/batch\n",
      "Epoch: 9/20...  Training Step: 7450...  Training loss: 1.0749...  0.0758 sec/batch\n",
      "Epoch: 9/20...  Training Step: 7500...  Training loss: 1.3849...  0.0708 sec/batch\n",
      "Epoch: 9/20...  Training Step: 7550...  Training loss: 1.0585...  0.0738 sec/batch\n",
      "Epoch: 9/20...  Training Step: 7600...  Training loss: 1.5331...  0.0768 sec/batch\n",
      "Epoch: 9/20...  Training Step: 7650...  Training loss: 1.2164...  0.0718 sec/batch\n",
      "Epoch: 9/20...  Training Step: 7700...  Training loss: 1.1773...  0.0738 sec/batch\n",
      "Epoch: 9/20...  Training Step: 7750...  Training loss: 1.1033...  0.0738 sec/batch\n",
      "Epoch: 9/20...  Training Step: 7800...  Training loss: 1.1656...  0.0728 sec/batch\n",
      "Epoch: 9/20...  Training Step: 7850...  Training loss: 0.9916...  0.0808 sec/batch\n",
      "Epoch: 9/20...  Training Step: 7900...  Training loss: 1.1423...  0.0778 sec/batch\n",
      "Epoch: 9/20...  Training Step: 7950...  Training loss: 1.0980...  0.0758 sec/batch\n",
      "Epoch: 9/20...  Training Step: 8000...  Training loss: 1.2739...  0.0728 sec/batch\n",
      "Epoch: 9/20...  Training Step: 8050...  Training loss: 1.2440...  0.0898 sec/batch\n",
      "Epoch: 9/20...  Training Step: 8100...  Training loss: 1.1085...  0.0718 sec/batch\n",
      "Epoch: 10/20...  Training Step: 8150...  Training loss: 1.2905...  0.0668 sec/batch\n",
      "Epoch: 10/20...  Training Step: 8200...  Training loss: 1.4090...  0.0718 sec/batch\n",
      "Epoch: 10/20...  Training Step: 8250...  Training loss: 1.1967...  0.0738 sec/batch\n",
      "Epoch: 10/20...  Training Step: 8300...  Training loss: 1.0127...  0.0708 sec/batch\n",
      "Epoch: 10/20...  Training Step: 8350...  Training loss: 1.1139...  0.0698 sec/batch\n",
      "Epoch: 10/20...  Training Step: 8400...  Training loss: 1.2425...  0.0708 sec/batch\n",
      "Epoch: 10/20...  Training Step: 8450...  Training loss: 1.0813...  0.0908 sec/batch\n",
      "Epoch: 10/20...  Training Step: 8500...  Training loss: 1.2326...  0.0828 sec/batch\n",
      "Epoch: 10/20...  Training Step: 8550...  Training loss: 1.1171...  0.0898 sec/batch\n",
      "Epoch: 10/20...  Training Step: 8600...  Training loss: 1.1391...  0.0818 sec/batch\n",
      "Epoch: 10/20...  Training Step: 8650...  Training loss: 1.1768...  0.0808 sec/batch\n",
      "Epoch: 10/20...  Training Step: 8700...  Training loss: 1.0274...  0.0698 sec/batch\n",
      "Epoch: 10/20...  Training Step: 8750...  Training loss: 1.3038...  0.0728 sec/batch\n",
      "Epoch: 10/20...  Training Step: 8800...  Training loss: 1.1679...  0.0728 sec/batch\n",
      "Epoch: 10/20...  Training Step: 8850...  Training loss: 0.8508...  0.0828 sec/batch\n",
      "Epoch: 10/20...  Training Step: 8900...  Training loss: 0.9401...  0.0728 sec/batch\n",
      "Epoch: 10/20...  Training Step: 8950...  Training loss: 1.2302...  0.0728 sec/batch\n",
      "Epoch: 10/20...  Training Step: 9000...  Training loss: 0.9716...  0.0918 sec/batch\n",
      "Epoch: 11/20...  Training Step: 9050...  Training loss: 0.9177...  0.0748 sec/batch\n",
      "Epoch: 11/20...  Training Step: 9100...  Training loss: 1.1766...  0.0728 sec/batch\n",
      "Epoch: 11/20...  Training Step: 9150...  Training loss: 1.1985...  0.0768 sec/batch\n",
      "Epoch: 11/20...  Training Step: 9200...  Training loss: 1.2870...  0.0718 sec/batch\n",
      "Epoch: 11/20...  Training Step: 9250...  Training loss: 1.1108...  0.0738 sec/batch\n",
      "Epoch: 11/20...  Training Step: 9300...  Training loss: 1.1184...  0.0738 sec/batch\n",
      "Epoch: 11/20...  Training Step: 9350...  Training loss: 1.1167...  0.0698 sec/batch\n",
      "Epoch: 11/20...  Training Step: 9400...  Training loss: 1.2073...  0.0768 sec/batch\n",
      "Epoch: 11/20...  Training Step: 9450...  Training loss: 1.1024...  0.0728 sec/batch\n",
      "Epoch: 11/20...  Training Step: 9500...  Training loss: 1.1265...  0.0748 sec/batch\n",
      "Epoch: 11/20...  Training Step: 9550...  Training loss: 1.2109...  0.0698 sec/batch\n",
      "Epoch: 11/20...  Training Step: 9600...  Training loss: 0.8836...  0.0698 sec/batch\n",
      "Epoch: 11/20...  Training Step: 9650...  Training loss: 1.0892...  0.0738 sec/batch\n",
      "Epoch: 11/20...  Training Step: 9700...  Training loss: 1.2035...  0.0698 sec/batch\n"
     ]
    },
    {
     "name": "stdout",
     "output_type": "stream",
     "text": [
      "Epoch: 11/20...  Training Step: 9750...  Training loss: 1.0089...  0.0718 sec/batch\n",
      "Epoch: 11/20...  Training Step: 9800...  Training loss: 1.1232...  0.0768 sec/batch\n",
      "Epoch: 11/20...  Training Step: 9850...  Training loss: 1.0645...  0.0838 sec/batch\n",
      "Epoch: 11/20...  Training Step: 9900...  Training loss: 1.0236...  0.0878 sec/batch\n",
      "Epoch: 12/20...  Training Step: 9950...  Training loss: 1.1992...  0.0688 sec/batch\n",
      "Epoch: 12/20...  Training Step: 10000...  Training loss: 1.1938...  0.0718 sec/batch\n",
      "Epoch: 12/20...  Training Step: 10050...  Training loss: 1.0644...  0.0698 sec/batch\n",
      "Epoch: 12/20...  Training Step: 10100...  Training loss: 1.1693...  0.0748 sec/batch\n",
      "Epoch: 12/20...  Training Step: 10150...  Training loss: 1.0472...  0.0718 sec/batch\n",
      "Epoch: 12/20...  Training Step: 10200...  Training loss: 1.0035...  0.0738 sec/batch\n",
      "Epoch: 12/20...  Training Step: 10250...  Training loss: 1.1640...  0.0738 sec/batch\n",
      "Epoch: 12/20...  Training Step: 10300...  Training loss: 1.1686...  0.0718 sec/batch\n",
      "Epoch: 12/20...  Training Step: 10350...  Training loss: 1.1769...  0.0688 sec/batch\n",
      "Epoch: 12/20...  Training Step: 10400...  Training loss: 1.1868...  0.0758 sec/batch\n",
      "Epoch: 12/20...  Training Step: 10450...  Training loss: 1.2819...  0.0798 sec/batch\n",
      "Epoch: 12/20...  Training Step: 10500...  Training loss: 1.1162...  0.0708 sec/batch\n",
      "Epoch: 12/20...  Training Step: 10550...  Training loss: 1.1968...  0.0728 sec/batch\n",
      "Epoch: 12/20...  Training Step: 10600...  Training loss: 1.0363...  0.0708 sec/batch\n",
      "Epoch: 12/20...  Training Step: 10650...  Training loss: 1.1041...  0.0788 sec/batch\n",
      "Epoch: 12/20...  Training Step: 10700...  Training loss: 0.9319...  0.0698 sec/batch\n",
      "Epoch: 12/20...  Training Step: 10750...  Training loss: 0.9761...  0.0688 sec/batch\n",
      "Epoch: 12/20...  Training Step: 10800...  Training loss: 1.1453...  0.0708 sec/batch\n",
      "Epoch: 13/20...  Training Step: 10850...  Training loss: 1.0277...  0.0728 sec/batch\n",
      "Epoch: 13/20...  Training Step: 10900...  Training loss: 1.1486...  0.0748 sec/batch\n",
      "Epoch: 13/20...  Training Step: 10950...  Training loss: 1.0452...  0.0738 sec/batch\n",
      "Epoch: 13/20...  Training Step: 11000...  Training loss: 1.0458...  0.0758 sec/batch\n",
      "Epoch: 13/20...  Training Step: 11050...  Training loss: 1.1787...  0.0758 sec/batch\n",
      "Epoch: 13/20...  Training Step: 11100...  Training loss: 0.8324...  0.0728 sec/batch\n",
      "Epoch: 13/20...  Training Step: 11150...  Training loss: 1.0285...  0.0698 sec/batch\n",
      "Epoch: 13/20...  Training Step: 11200...  Training loss: 0.8874...  0.0698 sec/batch\n",
      "Epoch: 13/20...  Training Step: 11250...  Training loss: 1.0731...  0.0818 sec/batch\n",
      "Epoch: 13/20...  Training Step: 11300...  Training loss: 0.8965...  0.0728 sec/batch\n",
      "Epoch: 13/20...  Training Step: 11350...  Training loss: 1.1085...  0.0738 sec/batch\n",
      "Epoch: 13/20...  Training Step: 11400...  Training loss: 1.2689...  0.0768 sec/batch\n",
      "Epoch: 13/20...  Training Step: 11450...  Training loss: 1.0500...  0.0738 sec/batch\n",
      "Epoch: 13/20...  Training Step: 11500...  Training loss: 0.9354...  0.0728 sec/batch\n",
      "Epoch: 13/20...  Training Step: 11550...  Training loss: 1.0805...  0.0718 sec/batch\n",
      "Epoch: 13/20...  Training Step: 11600...  Training loss: 1.0897...  0.0728 sec/batch\n",
      "Epoch: 13/20...  Training Step: 11650...  Training loss: 1.0768...  0.0987 sec/batch\n",
      "Epoch: 13/20...  Training Step: 11700...  Training loss: 1.1307...  0.0698 sec/batch\n",
      "Epoch: 13/20...  Training Step: 11750...  Training loss: 1.1254...  0.0688 sec/batch\n",
      "Epoch: 14/20...  Training Step: 11800...  Training loss: 1.0764...  0.0718 sec/batch\n",
      "Epoch: 14/20...  Training Step: 11850...  Training loss: 1.1126...  0.0678 sec/batch\n",
      "Epoch: 14/20...  Training Step: 11900...  Training loss: 1.3718...  0.0738 sec/batch\n",
      "Epoch: 14/20...  Training Step: 11950...  Training loss: 1.0724...  0.0678 sec/batch\n",
      "Epoch: 14/20...  Training Step: 12000...  Training loss: 1.2735...  0.0708 sec/batch\n",
      "Epoch: 14/20...  Training Step: 12050...  Training loss: 1.1932...  0.0728 sec/batch\n",
      "Epoch: 14/20...  Training Step: 12100...  Training loss: 1.2527...  0.0758 sec/batch\n",
      "Epoch: 14/20...  Training Step: 12150...  Training loss: 1.1900...  0.0788 sec/batch\n",
      "Epoch: 14/20...  Training Step: 12200...  Training loss: 1.2585...  0.0718 sec/batch\n",
      "Epoch: 14/20...  Training Step: 12250...  Training loss: 1.1027...  0.0808 sec/batch\n",
      "Epoch: 14/20...  Training Step: 12300...  Training loss: 1.1911...  0.0748 sec/batch\n",
      "Epoch: 14/20...  Training Step: 12350...  Training loss: 1.0713...  0.0748 sec/batch\n",
      "Epoch: 14/20...  Training Step: 12400...  Training loss: 1.0078...  0.0718 sec/batch\n",
      "Epoch: 14/20...  Training Step: 12450...  Training loss: 1.1402...  0.1007 sec/batch\n",
      "Epoch: 14/20...  Training Step: 12500...  Training loss: 1.2236...  0.0688 sec/batch\n",
      "Epoch: 14/20...  Training Step: 12550...  Training loss: 0.9514...  0.0728 sec/batch\n",
      "Epoch: 14/20...  Training Step: 12600...  Training loss: 1.1386...  0.0768 sec/batch\n",
      "Epoch: 14/20...  Training Step: 12650...  Training loss: 0.8050...  0.0728 sec/batch\n",
      "Epoch: 15/20...  Training Step: 12700...  Training loss: 1.2335...  0.0808 sec/batch\n",
      "Epoch: 15/20...  Training Step: 12750...  Training loss: 1.1461...  0.0718 sec/batch\n",
      "Epoch: 15/20...  Training Step: 12800...  Training loss: 1.2009...  0.0758 sec/batch\n",
      "Epoch: 15/20...  Training Step: 12850...  Training loss: 1.0330...  0.0768 sec/batch\n",
      "Epoch: 15/20...  Training Step: 12900...  Training loss: 1.1524...  0.1606 sec/batch\n",
      "Epoch: 15/20...  Training Step: 12950...  Training loss: 1.0771...  0.0848 sec/batch\n",
      "Epoch: 15/20...  Training Step: 13000...  Training loss: 1.1384...  0.0728 sec/batch\n",
      "Epoch: 15/20...  Training Step: 13050...  Training loss: 1.0983...  0.0798 sec/batch\n",
      "Epoch: 15/20...  Training Step: 13100...  Training loss: 1.3413...  0.0748 sec/batch\n",
      "Epoch: 15/20...  Training Step: 13150...  Training loss: 1.1639...  0.0808 sec/batch\n",
      "Epoch: 15/20...  Training Step: 13200...  Training loss: 1.2277...  0.0778 sec/batch\n",
      "Epoch: 15/20...  Training Step: 13250...  Training loss: 1.3457...  0.0798 sec/batch\n",
      "Epoch: 15/20...  Training Step: 13300...  Training loss: 1.1344...  0.0728 sec/batch\n",
      "Epoch: 15/20...  Training Step: 13350...  Training loss: 1.1261...  0.0758 sec/batch\n",
      "Epoch: 15/20...  Training Step: 13400...  Training loss: 1.2902...  0.0758 sec/batch\n",
      "Epoch: 15/20...  Training Step: 13450...  Training loss: 1.0508...  0.0738 sec/batch\n",
      "Epoch: 15/20...  Training Step: 13500...  Training loss: 0.9769...  0.0738 sec/batch\n",
      "Epoch: 15/20...  Training Step: 13550...  Training loss: 0.9612...  0.0768 sec/batch\n",
      "Epoch: 16/20...  Training Step: 13600...  Training loss: 1.2396...  0.0768 sec/batch\n",
      "Epoch: 16/20...  Training Step: 13650...  Training loss: 1.1688...  0.0977 sec/batch\n",
      "Epoch: 16/20...  Training Step: 13700...  Training loss: 1.2882...  0.0758 sec/batch\n",
      "Epoch: 16/20...  Training Step: 13750...  Training loss: 1.0552...  0.1107 sec/batch\n",
      "Epoch: 16/20...  Training Step: 13800...  Training loss: 1.0185...  0.0718 sec/batch\n",
      "Epoch: 16/20...  Training Step: 13850...  Training loss: 1.0809...  0.0748 sec/batch\n",
      "Epoch: 16/20...  Training Step: 13900...  Training loss: 1.2020...  0.0957 sec/batch\n",
      "Epoch: 16/20...  Training Step: 13950...  Training loss: 1.0106...  0.0957 sec/batch\n",
      "Epoch: 16/20...  Training Step: 14000...  Training loss: 1.2099...  0.0718 sec/batch\n",
      "Epoch: 16/20...  Training Step: 14050...  Training loss: 1.2025...  0.0768 sec/batch\n",
      "Epoch: 16/20...  Training Step: 14100...  Training loss: 1.2743...  0.0708 sec/batch\n",
      "Epoch: 16/20...  Training Step: 14150...  Training loss: 1.1993...  0.0768 sec/batch\n",
      "Epoch: 16/20...  Training Step: 14200...  Training loss: 1.0693...  0.0738 sec/batch\n",
      "Epoch: 16/20...  Training Step: 14250...  Training loss: 0.9235...  0.0758 sec/batch\n",
      "Epoch: 16/20...  Training Step: 14300...  Training loss: 1.1625...  0.0768 sec/batch\n",
      "Epoch: 16/20...  Training Step: 14350...  Training loss: 1.1173...  0.0898 sec/batch\n",
      "Epoch: 16/20...  Training Step: 14400...  Training loss: 1.1809...  0.0798 sec/batch\n",
      "Epoch: 16/20...  Training Step: 14450...  Training loss: 1.0082...  0.0868 sec/batch\n",
      "Epoch: 17/20...  Training Step: 14500...  Training loss: 1.2727...  0.0818 sec/batch\n",
      "Epoch: 17/20...  Training Step: 14550...  Training loss: 1.2493...  0.0728 sec/batch\n"
     ]
    },
    {
     "name": "stdout",
     "output_type": "stream",
     "text": [
      "Epoch: 17/20...  Training Step: 14600...  Training loss: 1.1257...  0.0718 sec/batch\n",
      "Epoch: 17/20...  Training Step: 14650...  Training loss: 0.8965...  0.0718 sec/batch\n",
      "Epoch: 17/20...  Training Step: 14700...  Training loss: 1.0190...  0.0748 sec/batch\n",
      "Epoch: 17/20...  Training Step: 14750...  Training loss: 1.0399...  0.0738 sec/batch\n",
      "Epoch: 17/20...  Training Step: 14800...  Training loss: 0.8388...  0.0728 sec/batch\n",
      "Epoch: 17/20...  Training Step: 14850...  Training loss: 1.1032...  0.0708 sec/batch\n",
      "Epoch: 17/20...  Training Step: 14900...  Training loss: 1.0850...  0.0688 sec/batch\n",
      "Epoch: 17/20...  Training Step: 14950...  Training loss: 1.0170...  0.0738 sec/batch\n",
      "Epoch: 17/20...  Training Step: 15000...  Training loss: 1.0893...  0.0738 sec/batch\n",
      "Epoch: 17/20...  Training Step: 15050...  Training loss: 0.9187...  0.0768 sec/batch\n",
      "Epoch: 17/20...  Training Step: 15100...  Training loss: 1.0279...  0.0768 sec/batch\n",
      "Epoch: 17/20...  Training Step: 15150...  Training loss: 0.9940...  0.0738 sec/batch\n",
      "Epoch: 17/20...  Training Step: 15200...  Training loss: 1.0524...  0.0758 sec/batch\n",
      "Epoch: 17/20...  Training Step: 15250...  Training loss: 0.8391...  0.0818 sec/batch\n",
      "Epoch: 17/20...  Training Step: 15300...  Training loss: 0.9968...  0.0698 sec/batch\n",
      "Epoch: 17/20...  Training Step: 15350...  Training loss: 1.0354...  0.0778 sec/batch\n",
      "Epoch: 18/20...  Training Step: 15400...  Training loss: 1.1096...  0.0718 sec/batch\n",
      "Epoch: 18/20...  Training Step: 15450...  Training loss: 1.1879...  0.0778 sec/batch\n",
      "Epoch: 18/20...  Training Step: 15500...  Training loss: 1.3095...  0.0688 sec/batch\n",
      "Epoch: 18/20...  Training Step: 15550...  Training loss: 1.0149...  0.0758 sec/batch\n",
      "Epoch: 18/20...  Training Step: 15600...  Training loss: 1.0802...  0.0728 sec/batch\n",
      "Epoch: 18/20...  Training Step: 15650...  Training loss: 1.0842...  0.0728 sec/batch\n",
      "Epoch: 18/20...  Training Step: 15700...  Training loss: 0.9038...  0.0738 sec/batch\n",
      "Epoch: 18/20...  Training Step: 15750...  Training loss: 0.9982...  0.0698 sec/batch\n",
      "Epoch: 18/20...  Training Step: 15800...  Training loss: 0.9465...  0.0718 sec/batch\n",
      "Epoch: 18/20...  Training Step: 15850...  Training loss: 1.2749...  0.0678 sec/batch\n",
      "Epoch: 18/20...  Training Step: 15900...  Training loss: 1.1102...  0.0748 sec/batch\n",
      "Epoch: 18/20...  Training Step: 15950...  Training loss: 1.0510...  0.0708 sec/batch\n",
      "Epoch: 18/20...  Training Step: 16000...  Training loss: 1.1167...  0.0748 sec/batch\n",
      "Epoch: 18/20...  Training Step: 16050...  Training loss: 1.3627...  0.0688 sec/batch\n",
      "Epoch: 18/20...  Training Step: 16100...  Training loss: 1.0947...  0.0718 sec/batch\n",
      "Epoch: 18/20...  Training Step: 16150...  Training loss: 0.9924...  0.0718 sec/batch\n",
      "Epoch: 18/20...  Training Step: 16200...  Training loss: 1.1003...  0.0768 sec/batch\n",
      "Epoch: 18/20...  Training Step: 16250...  Training loss: 1.0258...  0.0758 sec/batch\n",
      "Epoch: 19/20...  Training Step: 16300...  Training loss: 1.0223...  0.0718 sec/batch\n",
      "Epoch: 19/20...  Training Step: 16350...  Training loss: 1.0724...  0.1177 sec/batch\n",
      "Epoch: 19/20...  Training Step: 16400...  Training loss: 0.9786...  0.0718 sec/batch\n",
      "Epoch: 19/20...  Training Step: 16450...  Training loss: 0.7944...  0.0708 sec/batch\n",
      "Epoch: 19/20...  Training Step: 16500...  Training loss: 0.7489...  0.0698 sec/batch\n",
      "Epoch: 19/20...  Training Step: 16550...  Training loss: 0.8918...  0.0788 sec/batch\n",
      "Epoch: 19/20...  Training Step: 16600...  Training loss: 0.8493...  0.0768 sec/batch\n",
      "Epoch: 19/20...  Training Step: 16650...  Training loss: 1.1380...  0.0758 sec/batch\n",
      "Epoch: 19/20...  Training Step: 16700...  Training loss: 1.0783...  0.0748 sec/batch\n",
      "Epoch: 19/20...  Training Step: 16750...  Training loss: 1.0271...  0.0828 sec/batch\n",
      "Epoch: 19/20...  Training Step: 16800...  Training loss: 1.1154...  0.0738 sec/batch\n",
      "Epoch: 19/20...  Training Step: 16850...  Training loss: 1.0249...  0.0698 sec/batch\n",
      "Epoch: 19/20...  Training Step: 16900...  Training loss: 1.1881...  0.0758 sec/batch\n",
      "Epoch: 19/20...  Training Step: 16950...  Training loss: 1.1389...  0.0708 sec/batch\n",
      "Epoch: 19/20...  Training Step: 17000...  Training loss: 0.9260...  0.0708 sec/batch\n",
      "Epoch: 19/20...  Training Step: 17050...  Training loss: 1.1137...  0.0728 sec/batch\n",
      "Epoch: 19/20...  Training Step: 17100...  Training loss: 0.8755...  0.0738 sec/batch\n",
      "Epoch: 19/20...  Training Step: 17150...  Training loss: 1.0578...  0.0768 sec/batch\n",
      "Epoch: 20/20...  Training Step: 17200...  Training loss: 1.2518...  0.0798 sec/batch\n",
      "Epoch: 20/20...  Training Step: 17250...  Training loss: 1.1525...  0.0738 sec/batch\n",
      "Epoch: 20/20...  Training Step: 17300...  Training loss: 0.9414...  0.0808 sec/batch\n",
      "Epoch: 20/20...  Training Step: 17350...  Training loss: 0.8453...  0.0728 sec/batch\n",
      "Epoch: 20/20...  Training Step: 17400...  Training loss: 1.0070...  0.0688 sec/batch\n",
      "Epoch: 20/20...  Training Step: 17450...  Training loss: 1.2713...  0.0818 sec/batch\n",
      "Epoch: 20/20...  Training Step: 17500...  Training loss: 1.1304...  0.0778 sec/batch\n",
      "Epoch: 20/20...  Training Step: 17550...  Training loss: 1.0004...  0.0728 sec/batch\n",
      "Epoch: 20/20...  Training Step: 17600...  Training loss: 1.0615...  0.0738 sec/batch\n",
      "Epoch: 20/20...  Training Step: 17650...  Training loss: 1.0283...  0.0818 sec/batch\n",
      "Epoch: 20/20...  Training Step: 17700...  Training loss: 1.2243...  0.0978 sec/batch\n",
      "Epoch: 20/20...  Training Step: 17750...  Training loss: 1.1763...  0.0758 sec/batch\n",
      "Epoch: 20/20...  Training Step: 17800...  Training loss: 1.0871...  0.0908 sec/batch\n",
      "Epoch: 20/20...  Training Step: 17850...  Training loss: 0.9662...  0.0868 sec/batch\n",
      "Epoch: 20/20...  Training Step: 17900...  Training loss: 1.2804...  0.0788 sec/batch\n",
      "Epoch: 20/20...  Training Step: 17950...  Training loss: 1.1580...  0.0748 sec/batch\n",
      "Epoch: 20/20...  Training Step: 18000...  Training loss: 1.1152...  0.0698 sec/batch\n",
      "Epoch: 20/20...  Training Step: 18050...  Training loss: 1.2867...  0.0718 sec/batch\n"
     ]
    }
   ],
   "source": [
    "epochs = 20\n",
    "# Print losses every N interations\n",
    "print_every_n = 50\n",
    "\n",
    "# Save every N iterations\n",
    "save_every_n = 200\n",
    "\n",
    "model = CharRNN(len(vocab), batch_size=batch_size, num_steps=num_steps,\n",
    "                lstm_size=lstm_size, num_layers=num_layers, \n",
    "                learning_rate=learning_rate)\n",
    "\n",
    "saver = tf.train.Saver(max_to_keep=100)\n",
    "with tf.Session() as sess:\n",
    "    sess.run(tf.global_variables_initializer())\n",
    "    \n",
    "    # Use the line below to load a checkpoint and resume training\n",
    "    #saver.restore(sess, 'checkpoints/______.ckpt')\n",
    "    counter = 0\n",
    "    for e in range(epochs):\n",
    "        # Train network\n",
    "        new_state = sess.run(model.initial_state)\n",
    "        loss = 0\n",
    "        for x, y in get_batches(encoded, batch_size, num_steps):\n",
    "            counter += 1\n",
    "            start = time.time()\n",
    "            feed = {model.inputs: x,\n",
    "                    model.targets: y,\n",
    "                    model.keep_prob: keep_prob,\n",
    "                    model.initial_state: new_state}\n",
    "            batch_loss, new_state, _ = sess.run([model.loss, \n",
    "                                                 model.final_state, \n",
    "                                                 model.optimizer], \n",
    "                                                 feed_dict=feed)\n",
    "            if (counter % print_every_n == 0):\n",
    "                end = time.time()\n",
    "                print('Epoch: {}/{}... '.format(e+1, epochs),\n",
    "                      'Training Step: {}... '.format(counter),\n",
    "                      'Training loss: {:.4f}... '.format(batch_loss),\n",
    "                      '{:.4f} sec/batch'.format((end-start)))\n",
    "        \n",
    "            if (counter % save_every_n == 0):\n",
    "                saver.save(sess, \"checkpoints/i{}_l{}.ckpt\".format(counter, lstm_size))\n",
    "    \n",
    "    saver.save(sess, \"checkpoints/i{}_l{}.ckpt\".format(counter, lstm_size))"
   ]
  },
  {
   "cell_type": "markdown",
   "metadata": {},
   "source": [
    "#### Saved checkpoints\n",
    "\n",
    "Read up on saving and loading checkpoints here: https://www.tensorflow.org/programmers_guide/variables"
   ]
  },
  {
   "cell_type": "code",
   "execution_count": 30,
   "metadata": {},
   "outputs": [
    {
     "data": {
      "text/plain": [
       "model_checkpoint_path: \"checkpoints\\\\i18080_l128.ckpt\"\n",
       "all_model_checkpoint_paths: \"checkpoints\\\\i200_l128.ckpt\"\n",
       "all_model_checkpoint_paths: \"checkpoints\\\\i400_l128.ckpt\"\n",
       "all_model_checkpoint_paths: \"checkpoints\\\\i600_l128.ckpt\"\n",
       "all_model_checkpoint_paths: \"checkpoints\\\\i800_l128.ckpt\"\n",
       "all_model_checkpoint_paths: \"checkpoints\\\\i1000_l128.ckpt\"\n",
       "all_model_checkpoint_paths: \"checkpoints\\\\i1200_l128.ckpt\"\n",
       "all_model_checkpoint_paths: \"checkpoints\\\\i1400_l128.ckpt\"\n",
       "all_model_checkpoint_paths: \"checkpoints\\\\i1600_l128.ckpt\"\n",
       "all_model_checkpoint_paths: \"checkpoints\\\\i1800_l128.ckpt\"\n",
       "all_model_checkpoint_paths: \"checkpoints\\\\i2000_l128.ckpt\"\n",
       "all_model_checkpoint_paths: \"checkpoints\\\\i2200_l128.ckpt\"\n",
       "all_model_checkpoint_paths: \"checkpoints\\\\i2400_l128.ckpt\"\n",
       "all_model_checkpoint_paths: \"checkpoints\\\\i2600_l128.ckpt\"\n",
       "all_model_checkpoint_paths: \"checkpoints\\\\i2800_l128.ckpt\"\n",
       "all_model_checkpoint_paths: \"checkpoints\\\\i3000_l128.ckpt\"\n",
       "all_model_checkpoint_paths: \"checkpoints\\\\i3200_l128.ckpt\"\n",
       "all_model_checkpoint_paths: \"checkpoints\\\\i3400_l128.ckpt\"\n",
       "all_model_checkpoint_paths: \"checkpoints\\\\i3600_l128.ckpt\"\n",
       "all_model_checkpoint_paths: \"checkpoints\\\\i3800_l128.ckpt\"\n",
       "all_model_checkpoint_paths: \"checkpoints\\\\i4000_l128.ckpt\"\n",
       "all_model_checkpoint_paths: \"checkpoints\\\\i4200_l128.ckpt\"\n",
       "all_model_checkpoint_paths: \"checkpoints\\\\i4400_l128.ckpt\"\n",
       "all_model_checkpoint_paths: \"checkpoints\\\\i4600_l128.ckpt\"\n",
       "all_model_checkpoint_paths: \"checkpoints\\\\i4800_l128.ckpt\"\n",
       "all_model_checkpoint_paths: \"checkpoints\\\\i5000_l128.ckpt\"\n",
       "all_model_checkpoint_paths: \"checkpoints\\\\i5200_l128.ckpt\"\n",
       "all_model_checkpoint_paths: \"checkpoints\\\\i5400_l128.ckpt\"\n",
       "all_model_checkpoint_paths: \"checkpoints\\\\i5600_l128.ckpt\"\n",
       "all_model_checkpoint_paths: \"checkpoints\\\\i5800_l128.ckpt\"\n",
       "all_model_checkpoint_paths: \"checkpoints\\\\i6000_l128.ckpt\"\n",
       "all_model_checkpoint_paths: \"checkpoints\\\\i6200_l128.ckpt\"\n",
       "all_model_checkpoint_paths: \"checkpoints\\\\i6400_l128.ckpt\"\n",
       "all_model_checkpoint_paths: \"checkpoints\\\\i6600_l128.ckpt\"\n",
       "all_model_checkpoint_paths: \"checkpoints\\\\i6800_l128.ckpt\"\n",
       "all_model_checkpoint_paths: \"checkpoints\\\\i7000_l128.ckpt\"\n",
       "all_model_checkpoint_paths: \"checkpoints\\\\i7200_l128.ckpt\"\n",
       "all_model_checkpoint_paths: \"checkpoints\\\\i7400_l128.ckpt\"\n",
       "all_model_checkpoint_paths: \"checkpoints\\\\i7600_l128.ckpt\"\n",
       "all_model_checkpoint_paths: \"checkpoints\\\\i7800_l128.ckpt\"\n",
       "all_model_checkpoint_paths: \"checkpoints\\\\i8000_l128.ckpt\"\n",
       "all_model_checkpoint_paths: \"checkpoints\\\\i8200_l128.ckpt\"\n",
       "all_model_checkpoint_paths: \"checkpoints\\\\i8400_l128.ckpt\"\n",
       "all_model_checkpoint_paths: \"checkpoints\\\\i8600_l128.ckpt\"\n",
       "all_model_checkpoint_paths: \"checkpoints\\\\i8800_l128.ckpt\"\n",
       "all_model_checkpoint_paths: \"checkpoints\\\\i9000_l128.ckpt\"\n",
       "all_model_checkpoint_paths: \"checkpoints\\\\i9200_l128.ckpt\"\n",
       "all_model_checkpoint_paths: \"checkpoints\\\\i9400_l128.ckpt\"\n",
       "all_model_checkpoint_paths: \"checkpoints\\\\i9600_l128.ckpt\"\n",
       "all_model_checkpoint_paths: \"checkpoints\\\\i9800_l128.ckpt\"\n",
       "all_model_checkpoint_paths: \"checkpoints\\\\i10000_l128.ckpt\"\n",
       "all_model_checkpoint_paths: \"checkpoints\\\\i10200_l128.ckpt\"\n",
       "all_model_checkpoint_paths: \"checkpoints\\\\i10400_l128.ckpt\"\n",
       "all_model_checkpoint_paths: \"checkpoints\\\\i10600_l128.ckpt\"\n",
       "all_model_checkpoint_paths: \"checkpoints\\\\i10800_l128.ckpt\"\n",
       "all_model_checkpoint_paths: \"checkpoints\\\\i11000_l128.ckpt\"\n",
       "all_model_checkpoint_paths: \"checkpoints\\\\i11200_l128.ckpt\"\n",
       "all_model_checkpoint_paths: \"checkpoints\\\\i11400_l128.ckpt\"\n",
       "all_model_checkpoint_paths: \"checkpoints\\\\i11600_l128.ckpt\"\n",
       "all_model_checkpoint_paths: \"checkpoints\\\\i11800_l128.ckpt\"\n",
       "all_model_checkpoint_paths: \"checkpoints\\\\i12000_l128.ckpt\"\n",
       "all_model_checkpoint_paths: \"checkpoints\\\\i12200_l128.ckpt\"\n",
       "all_model_checkpoint_paths: \"checkpoints\\\\i12400_l128.ckpt\"\n",
       "all_model_checkpoint_paths: \"checkpoints\\\\i12600_l128.ckpt\"\n",
       "all_model_checkpoint_paths: \"checkpoints\\\\i12800_l128.ckpt\"\n",
       "all_model_checkpoint_paths: \"checkpoints\\\\i13000_l128.ckpt\"\n",
       "all_model_checkpoint_paths: \"checkpoints\\\\i13200_l128.ckpt\"\n",
       "all_model_checkpoint_paths: \"checkpoints\\\\i13400_l128.ckpt\"\n",
       "all_model_checkpoint_paths: \"checkpoints\\\\i13600_l128.ckpt\"\n",
       "all_model_checkpoint_paths: \"checkpoints\\\\i13800_l128.ckpt\"\n",
       "all_model_checkpoint_paths: \"checkpoints\\\\i14000_l128.ckpt\"\n",
       "all_model_checkpoint_paths: \"checkpoints\\\\i14200_l128.ckpt\"\n",
       "all_model_checkpoint_paths: \"checkpoints\\\\i14400_l128.ckpt\"\n",
       "all_model_checkpoint_paths: \"checkpoints\\\\i14600_l128.ckpt\"\n",
       "all_model_checkpoint_paths: \"checkpoints\\\\i14800_l128.ckpt\"\n",
       "all_model_checkpoint_paths: \"checkpoints\\\\i15000_l128.ckpt\"\n",
       "all_model_checkpoint_paths: \"checkpoints\\\\i15200_l128.ckpt\"\n",
       "all_model_checkpoint_paths: \"checkpoints\\\\i15400_l128.ckpt\"\n",
       "all_model_checkpoint_paths: \"checkpoints\\\\i15600_l128.ckpt\"\n",
       "all_model_checkpoint_paths: \"checkpoints\\\\i15800_l128.ckpt\"\n",
       "all_model_checkpoint_paths: \"checkpoints\\\\i16000_l128.ckpt\"\n",
       "all_model_checkpoint_paths: \"checkpoints\\\\i16200_l128.ckpt\"\n",
       "all_model_checkpoint_paths: \"checkpoints\\\\i16400_l128.ckpt\"\n",
       "all_model_checkpoint_paths: \"checkpoints\\\\i16600_l128.ckpt\"\n",
       "all_model_checkpoint_paths: \"checkpoints\\\\i16800_l128.ckpt\"\n",
       "all_model_checkpoint_paths: \"checkpoints\\\\i17000_l128.ckpt\"\n",
       "all_model_checkpoint_paths: \"checkpoints\\\\i17200_l128.ckpt\"\n",
       "all_model_checkpoint_paths: \"checkpoints\\\\i17400_l128.ckpt\"\n",
       "all_model_checkpoint_paths: \"checkpoints\\\\i17600_l128.ckpt\"\n",
       "all_model_checkpoint_paths: \"checkpoints\\\\i17800_l128.ckpt\"\n",
       "all_model_checkpoint_paths: \"checkpoints\\\\i18000_l128.ckpt\"\n",
       "all_model_checkpoint_paths: \"checkpoints\\\\i18080_l128.ckpt\""
      ]
     },
     "execution_count": 30,
     "metadata": {},
     "output_type": "execute_result"
    }
   ],
   "source": [
    "tf.train.get_checkpoint_state('checkpoints')"
   ]
  },
  {
   "cell_type": "markdown",
   "metadata": {},
   "source": [
    "## Sampling\n",
    "\n",
    "Now that the network is trained, we'll can use it to generate new text. The idea is that we pass in a character, then the network will predict the next character. We can use the new one, to predict the next one. And we keep doing this to generate all new text. I also included some functionality to prime the network with some text by passing in a string and building up a state from that.\n",
    "\n",
    "The network gives us predictions for each character. To reduce noise and make things a little less random, I'm going to only choose a new character from the top N most likely characters.\n",
    "\n"
   ]
  },
  {
   "cell_type": "code",
   "execution_count": 49,
   "metadata": {
    "collapsed": true
   },
   "outputs": [],
   "source": [
    "def pick_top_n(preds, vocab_size, top_n=50):\n",
    "    p = np.squeeze(preds)\n",
    "    p[np.argsort(p)[:-top_n]] = 0\n",
    "    p = p / np.sum(p)\n",
    "    c = np.random.choice(vocab_size, 1, p=p)[0]\n",
    "    return c"
   ]
  },
  {
   "cell_type": "code",
   "execution_count": 50,
   "metadata": {
    "collapsed": true
   },
   "outputs": [],
   "source": [
    "def sample(checkpoint, n_samples, lstm_size, vocab_size, prime=\"The \"):\n",
    "    samples = [c for c in prime]\n",
    "    model = CharRNN(len(vocab), lstm_size=lstm_size, sampling=True)\n",
    "    saver = tf.train.Saver()\n",
    "    with tf.Session() as sess:\n",
    "        saver.restore(sess, checkpoint)\n",
    "        new_state = sess.run(model.initial_state)\n",
    "        for c in prime:\n",
    "            x = np.zeros((1, 1))\n",
    "            x[0,0] = vocab_to_int[c]\n",
    "            feed = {model.inputs: x,\n",
    "                    model.keep_prob: 1.,\n",
    "                    model.initial_state: new_state}\n",
    "            preds, new_state = sess.run([model.prediction, model.final_state], \n",
    "                                         feed_dict=feed)\n",
    "\n",
    "        c = pick_top_n(preds, len(vocab))\n",
    "        samples.append(int_to_vocab[c])\n",
    "\n",
    "        for i in range(n_samples):\n",
    "            x[0,0] = c\n",
    "            feed = {model.inputs: x,\n",
    "                    model.keep_prob: 1.,\n",
    "                    model.initial_state: new_state}\n",
    "            preds, new_state = sess.run([model.prediction, model.final_state], \n",
    "                                         feed_dict=feed)\n",
    "\n",
    "            c = pick_top_n(preds, len(vocab))\n",
    "            samples.append(int_to_vocab[c])\n",
    "        \n",
    "    return ''.join(samples)"
   ]
  },
  {
   "cell_type": "markdown",
   "metadata": {},
   "source": [
    "Here, pass in the path to a checkpoint and sample from the network."
   ]
  },
  {
   "cell_type": "code",
   "execution_count": 33,
   "metadata": {},
   "outputs": [
    {
     "data": {
      "text/plain": [
       "'checkpoints\\\\i18080_l128.ckpt'"
      ]
     },
     "execution_count": 33,
     "metadata": {},
     "output_type": "execute_result"
    }
   ],
   "source": [
    "tf.train.latest_checkpoint('checkpoints')"
   ]
  },
  {
   "cell_type": "code",
   "execution_count": 51,
   "metadata": {},
   "outputs": [
    {
     "name": "stdout",
     "output_type": "stream",
     "text": [
      "INFO:tensorflow:Restoring parameters from checkpoints\\i18080_l128.ckpt\n",
      "Bd|\"A7\"BAE|\"D\"F2F|\\\n",
      "\"D\"F/2F/2F/2E/2F/2G/2 \"D\"A2|\n",
      "\"D\"Aa\"B7\"c|\"G\"dBd|\"Em\"B2B/2e/2|\"Em\"ddB|\"A7\"c3|\"D7\"d2\"D\"A|\"G\"BBB|\\\n",
      "\"C\"(3A/2Bd|\n",
      "\"Em\"eeG|\"D7\"AFA|\"G\"GGG|\"D\"FDF|\"Dm\"DBd|\"G\"BAG|\"Am\"BA/2G/2E|\"Dm\"F2\"Gm\"GB|\"C\"efd|\n",
      "\"Am\"cd2|\"Am\"A2B|\"E7\"edc|\"Am\"e2d|\"A7\"ee||\n",
      "\n",
      "\n",
      "X: 42\n",
      "T:Afe Bram She n\n",
      "% Nottingham Music Database\n",
      "P:AAB\n",
      "S:The Strotd Jenim Dlarn\n",
      "M:4/4\n",
      "L:1/4\n",
      "K:G\n",
      "P:A\n",
      "B|\n",
      "\"D\"F2 \"A7\"G/2G/2B/2A/2|\"G\"G2 \"A7\"A2|\"D\"DA c3/4B/4B/2|\"A7\"c/2d/2c/2f/2 A/2^e/2a/2e/2|\"D\"d/2f/2e/2d/2 d/2B/2A/2B/2|\n",
      "\"D\"Af D3/2(3F/2d/2d/2|\"Em\"ec2e|\\\n",
      "\"\n"
     ]
    }
   ],
   "source": [
    "checkpoint = tf.train.latest_checkpoint('checkpoints')\n",
    "samp = sample(checkpoint, 500, lstm_size, len(vocab), prime=\"B\")\n",
    "print(samp)"
   ]
  },
  {
   "cell_type": "code",
   "execution_count": 48,
   "metadata": {},
   "outputs": [
    {
     "name": "stdout",
     "output_type": "stream",
     "text": [
      "INFO:tensorflow:Restoring parameters from checkpoints/i200_l128.ckpt\n",
      "B|\"D\"A2 d2 e3 f2f|\"A7\"e3 \"G\"d2c|\"E7\"d2A|\"D\"d2d|\\\"Dm\"e3d|\"C\"e2 d2 \"A7\"g3|\"G7\"A3 ed A2f \"A7\"f2 \"Am\"d3 \"D\"A2A \"E7\"e3|\"D\"f2||\n",
      "\"G\"A3||\"G7\"ed f2d \"A7\"Ad|\"G7\"d3|\"C\"d2||\n",
      "\"G\"f2A|\"D7\"edd|\"D\"e3 \"D\"de/2A/2 f/2e/2|\"G7\"d/2c/2|\"A7\"A3/2d/2|\"Am\"e3/2e/2|\"A\"ef \"A7\"c3|\\\"D\"e3|\"D7\"e2 \"G7\"e/2f/4 \"C\"d2 Af/2A/2|\"D\"A/2e/2A \"D\"d3|\"D\"fc \"A\"d2d|\"D\"d2 \"Em\"e|\"G\"A2 d2 e/2c/2 \"D\"d2 \"A7\"e2 e2 f|\n",
      "\"G\"A2A|\"D\"e3 d2 d3|\n",
      "\"D\"d2 d|\"D\"d3 \"A7\"d2 Ad \"Am\"g2 d2f|\"A\"f2 de \"D\"A/2c/2A \"D7\"fd \"Gm\"e2A \"A\"f3|\"D\"d3 e2 \"D\"Ad \"A\"g2d|\"D\"d2 \"G\"g2 A|\"A\"A2|\n",
      "\"C\"e2c|\"D\"e2c A2|\"D\"de A2|\"D\"g3|\"D\"A/2f/2 dd \"A7\"d/2d/2|\"D\"A/2f/2 f2/2A/4A/2|\"E7\"d/2e/2 d/2e/2|\\\"\n",
      "\"A\"f3|\"D\"fc/4 A/2 \"C\"d/2d/4|\"D\"A3/4 \\/2A/4 A/2|\"D\"g3|\"D\"f/2A/2 \"D\"gfd d/2A/2 A/2 \"E7\"f/2c/2|\"G\"d/2d/2 \"D7\"d/2c/2 \"D\"d/2d/2 d/2d/2 \"A\"A/2d/2|\"A7\"d3/4|\"C\"f/2 \"D7\"e/2 \\//2A/2|\"Dm\"df f/2f/2d/2e/2|\"Dm\"f/2d/2|\"A7\"e/2e/2|\"D7\"e/2e/2 f/2 \"D\"e/2d/2 G2 \"G\"gf/2 f/2 d3/2|\\\n",
      "\"D\"d3|\\\n",
      "\"D\"f2de df|\"E\"g/2f/2A/2d/2|\\\n",
      "\"G\"d2||\"D\"f/2e/2 A/2|\"Am\"f/2 \\\n",
      "\"D\"dc \"E7\"g/4|\\\n",
      "\"D\"d3/2A/2d \"D\"f/2d/2 D/2e/2 \"D7\"f/2d/2 G2|\"G7\"e3|\"D\"d/\n"
     ]
    }
   ],
   "source": [
    "checkpoint = 'checkpoints/i200_l128.ckpt'\n",
    "samp = sample(checkpoint, 1000, lstm_size, len(vocab), prime=\"B\")\n",
    "print(samp)"
   ]
  },
  {
   "cell_type": "code",
   "execution_count": 46,
   "metadata": {},
   "outputs": [
    {
     "name": "stdout",
     "output_type": "stream",
     "text": [
      "INFO:tensorflow:Restoring parameters from checkpoints/i12600_l128.ckpt\n",
      "B/2A/2|\"G\"GG/2B/2 d2|\"G\"G/2B/2A/2G/2 \"D7\"F/2A/2F/2E/2|\\\n",
      "\"D\"FF A/2c/2d/2e/2|\"G\"d/2B/2A/2F/2 G/2E/2F/2G/2|\n",
      "\"D\"F/2E/2D/2F/2 \"A\"c/2d/2c/2c/2|\"D\"dA Ad|\"A\"Ae cA|\n",
      "\"E\"B/2A/2B/2c/2 \"A\"Bc/2B/2|\"E\"A/2B/2A/2G/2 \"A\"AA/2B/2|\"A\"c/2e/2e/2c/2 \"A\"e/2f/2e/2d/2|\\\n",
      "\"E\"B/2c/2A/2F/2 D/2E/2D/2G/2|\n",
      "\"E7\"B/2A/2F/2G/2 \"A\"A/2B/2A/2G/2|\\\n",
      "\"A\"A3::\n",
      "\"A\"c/2c/2e/2d/2 \"E\"ee/2f/2|\"G\"g/2d/2c/2d/2 \"A\"c/2d/2e/2d/2|\"A\"c/2c/2e/2g/2 \"D\"f/2d/2d/2d/2|\\\n",
      "\"A\"e/2c/2e/2e/2 e/2a/2g/2e/2|\n",
      "\"G\"gd dB/2c/2|\\\n",
      "\"Bm\"d/2e/2f/2e/2 \"E7\"dB/2c/2|\"G\"dB/2c/2 d/2d/2\n"
     ]
    }
   ],
   "source": [
    "checkpoint = 'checkpoints/i12600_l128.ckpt'\n",
    "samp = sample(checkpoint, 500, lstm_size, len(vocab), prime=\"B\")\n",
    "print(samp)"
   ]
  },
  {
   "cell_type": "code",
   "execution_count": null,
   "metadata": {
    "collapsed": true
   },
   "outputs": [],
   "source": []
  }
 ],
 "metadata": {
  "kernelspec": {
   "display_name": "Python 3",
   "language": "python",
   "name": "python3"
  },
  "language_info": {
   "codemirror_mode": {
    "name": "ipython",
    "version": 3
   },
   "file_extension": ".py",
   "mimetype": "text/x-python",
   "name": "python",
   "nbconvert_exporter": "python",
   "pygments_lexer": "ipython3",
   "version": "3.6.8"
  }
 },
 "nbformat": 4,
 "nbformat_minor": 2
}
